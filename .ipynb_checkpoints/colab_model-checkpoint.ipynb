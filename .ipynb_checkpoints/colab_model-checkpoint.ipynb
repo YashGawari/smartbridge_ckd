
{
 "cells": [
  {
   "cell_type": "markdown",
   "metadata": {},
   "source": [
    "# Chronic Kidney Disease Prediction"
   ]
  },
  {
   "cell_type": "code",
   "execution_count": null,
   "metadata": {},
   "outputs": [],
   "source": [
    "import pandas as pd\n",
    "import numpy as np\n",
    "from sklearn.model_selection import train_test_split\n",
    "from sklearn.ensemble import RandomForestClassifier\n",
    "from sklearn.preprocessing import LabelEncoder\n",
    "from sklearn.metrics import accuracy_score, classification_report\n",
    "import pickle"
   ]
  },
  {
   "cell_type": "code",
   "execution_count": null,
   "metadata": {},
   "outputs": [],
   "source": [
    "# Sample data creation\n",
    "data = {\n",
    "    \"age\": [48.0, 7.0, 62.0, 48.0, 51.0],\n",
    "    \"bp\": [80.0, 50.0, 80.0, 70.0, 80.0],\n",
    "    \"sg\": [1.02, 1.02, 1.01, 1.005, 1.01],\n",
    "    \"al\": [1.0, 4.0, 2.0, 3.0, 4.0],\n",
    "    \"su\": [0.0, 0.0, 0.0, 0.0, 0.0],\n",
    "    \"hemo\": [15.1, 11.3, 9.6, 11.2, 9.5],\n",
    "    \"classification\": [\"notckd\", \"ckd\", \"ckd\", \"ckd\", \"ckd\"]\n",
    "}\n",
    "df = pd.DataFrame(data)"
   ]
  },
  {
   "cell_type": "code",
   "execution_count": null,
   "metadata": {},
   "outputs": [],
   "source": [
    "# Encode categorical\n",
    "le = LabelEncoder()\n",
    "df[\"classification\"] = le.fit_transform(df[\"classification\"])"
   ]
  },
  {
   "cell_type": "code",
   "execution_count": null,
   "metadata": {},
   "outputs": [],
   "source": [
    "X = df.drop(\"classification\", axis=1)\n",
    "y = df[\"classification\"]\n",
    "X_train, X_test, y_train, y_test = train_test_split(X, y, test_size=0.2, random_state=42)\n",
    "model = RandomForestClassifier()\n",
    "model.fit(X_train, y_train)"
   ]
  },
  {
   "cell_type": "code",
   "execution_count": null,
   "metadata": {},
   "outputs": [],
   "source": [
    "y_pred = model.predict(X_test)\n",
    "print(\"Accuracy:\", accuracy_score(y_test, y_pred))\n",
    "print(classification_report(y_test, y_pred))"
   ]
  },
  {
   "cell_type": "code",
   "execution_count": null,
   "metadata": {},
   "outputs": [],
   "source": [
    "with open('ckd_model.pkl', 'wb') as f:\n",
    "    pickle.dump(model, f)"
   ]
  }
 ],
 "metadata": {
  "kernelspec": {
   "display_name": "Python 3",
   "language": "python",
   "name": "python3"
  },
  "language_info": {
   "name": "python",
   "version": "3.11"
  }
 },
 "nbformat": 4,
 "nbformat_minor": 2
}
